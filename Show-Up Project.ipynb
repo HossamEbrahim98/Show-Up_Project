{
 "cells": [
  {
   "cell_type": "code",
   "execution_count": 1,
   "id": "925c979e-0d26-4aac-84e5-e34a528566dc",
   "metadata": {},
   "outputs": [
    {
     "name": "stderr",
     "output_type": "stream",
     "text": [
      "UsageError: Line magic function `%` not found.\n"
     ]
    }
   ],
   "source": [
    "import pandas as pd\n",
    "import numpy as np\n",
    "import matplotlib.pyplot as plt\n",
    "% matplotlib inline"
   ]
  },
  {
   "cell_type": "code",
   "execution_count": 169,
   "id": "b2f7aac7-7403-4af0-aa97-77872b001c0f",
   "metadata": {},
   "outputs": [
    {
     "data": {
      "text/html": [
       "<div>\n",
       "<style scoped>\n",
       "    .dataframe tbody tr th:only-of-type {\n",
       "        vertical-align: middle;\n",
       "    }\n",
       "\n",
       "    .dataframe tbody tr th {\n",
       "        vertical-align: top;\n",
       "    }\n",
       "\n",
       "    .dataframe thead th {\n",
       "        text-align: right;\n",
       "    }\n",
       "</style>\n",
       "<table border=\"1\" class=\"dataframe\">\n",
       "  <thead>\n",
       "    <tr style=\"text-align: right;\">\n",
       "      <th></th>\n",
       "      <th>PatientId</th>\n",
       "      <th>AppointmentID</th>\n",
       "      <th>Gender</th>\n",
       "      <th>ScheduledDay</th>\n",
       "      <th>AppointmentDay</th>\n",
       "      <th>Age</th>\n",
       "      <th>Neighbourhood</th>\n",
       "      <th>Scholarship</th>\n",
       "      <th>Hipertension</th>\n",
       "      <th>Diabetes</th>\n",
       "      <th>Alcoholism</th>\n",
       "      <th>Handcap</th>\n",
       "      <th>SMS_received</th>\n",
       "      <th>No-show</th>\n",
       "    </tr>\n",
       "  </thead>\n",
       "  <tbody>\n",
       "    <tr>\n",
       "      <th>0</th>\n",
       "      <td>2.987250e+13</td>\n",
       "      <td>5642903</td>\n",
       "      <td>F</td>\n",
       "      <td>2016-04-29T18:38:08Z</td>\n",
       "      <td>2016-04-29T00:00:00Z</td>\n",
       "      <td>62</td>\n",
       "      <td>JARDIM DA PENHA</td>\n",
       "      <td>0</td>\n",
       "      <td>1</td>\n",
       "      <td>0</td>\n",
       "      <td>0</td>\n",
       "      <td>0</td>\n",
       "      <td>0</td>\n",
       "      <td>No</td>\n",
       "    </tr>\n",
       "    <tr>\n",
       "      <th>1</th>\n",
       "      <td>5.589978e+14</td>\n",
       "      <td>5642503</td>\n",
       "      <td>M</td>\n",
       "      <td>2016-04-29T16:08:27Z</td>\n",
       "      <td>2016-04-29T00:00:00Z</td>\n",
       "      <td>56</td>\n",
       "      <td>JARDIM DA PENHA</td>\n",
       "      <td>0</td>\n",
       "      <td>0</td>\n",
       "      <td>0</td>\n",
       "      <td>0</td>\n",
       "      <td>0</td>\n",
       "      <td>0</td>\n",
       "      <td>No</td>\n",
       "    </tr>\n",
       "    <tr>\n",
       "      <th>2</th>\n",
       "      <td>4.262962e+12</td>\n",
       "      <td>5642549</td>\n",
       "      <td>F</td>\n",
       "      <td>2016-04-29T16:19:04Z</td>\n",
       "      <td>2016-04-29T00:00:00Z</td>\n",
       "      <td>62</td>\n",
       "      <td>MATA DA PRAIA</td>\n",
       "      <td>0</td>\n",
       "      <td>0</td>\n",
       "      <td>0</td>\n",
       "      <td>0</td>\n",
       "      <td>0</td>\n",
       "      <td>0</td>\n",
       "      <td>No</td>\n",
       "    </tr>\n",
       "  </tbody>\n",
       "</table>\n",
       "</div>"
      ],
      "text/plain": [
       "      PatientId  AppointmentID Gender          ScheduledDay  \\\n",
       "0  2.987250e+13        5642903      F  2016-04-29T18:38:08Z   \n",
       "1  5.589978e+14        5642503      M  2016-04-29T16:08:27Z   \n",
       "2  4.262962e+12        5642549      F  2016-04-29T16:19:04Z   \n",
       "\n",
       "         AppointmentDay  Age    Neighbourhood  Scholarship  Hipertension  \\\n",
       "0  2016-04-29T00:00:00Z   62  JARDIM DA PENHA            0             1   \n",
       "1  2016-04-29T00:00:00Z   56  JARDIM DA PENHA            0             0   \n",
       "2  2016-04-29T00:00:00Z   62    MATA DA PRAIA            0             0   \n",
       "\n",
       "   Diabetes  Alcoholism  Handcap  SMS_received No-show  \n",
       "0         0           0        0             0      No  \n",
       "1         0           0        0             0      No  \n",
       "2         0           0        0             0      No  "
      ]
     },
     "execution_count": 169,
     "metadata": {},
     "output_type": "execute_result"
    }
   ],
   "source": [
    "# Reading Data\n",
    "data = pd.read_csv(r'E:\\Eg Fwd\\KaggleV2-May-2016.csv')\n",
    "data.head(3)"
   ]
  },
  {
   "cell_type": "markdown",
   "id": "4e88a47b-ecb7-455b-b619-fde8011d56d5",
   "metadata": {},
   "source": [
    "## 1- EDA"
   ]
  },
  {
   "cell_type": "code",
   "execution_count": 4,
   "id": "11a843ff-3acc-49ae-a1ca-5dac12c3b6fe",
   "metadata": {},
   "outputs": [
    {
     "name": "stdout",
     "output_type": "stream",
     "text": [
      "<class 'pandas.core.frame.DataFrame'>\n",
      "RangeIndex: 110527 entries, 0 to 110526\n",
      "Data columns (total 14 columns):\n",
      " #   Column          Non-Null Count   Dtype  \n",
      "---  ------          --------------   -----  \n",
      " 0   PatientId       110527 non-null  float64\n",
      " 1   AppointmentID   110527 non-null  int64  \n",
      " 2   Gender          110527 non-null  object \n",
      " 3   ScheduledDay    110527 non-null  object \n",
      " 4   AppointmentDay  110527 non-null  object \n",
      " 5   Age             110527 non-null  int64  \n",
      " 6   Neighbourhood   110527 non-null  object \n",
      " 7   Scholarship     110527 non-null  int64  \n",
      " 8   Hipertension    110527 non-null  int64  \n",
      " 9   Diabetes        110527 non-null  int64  \n",
      " 10  Alcoholism      110527 non-null  int64  \n",
      " 11  Handcap         110527 non-null  int64  \n",
      " 12  SMS_received    110527 non-null  int64  \n",
      " 13  No-show         110527 non-null  object \n",
      "dtypes: float64(1), int64(8), object(5)\n",
      "memory usage: 11.8+ MB\n"
     ]
    }
   ],
   "source": [
    "data.info()"
   ]
  },
  {
   "cell_type": "code",
   "execution_count": 166,
   "id": "3071a6f6-a9ad-49e0-8119-b16f2127aa88",
   "metadata": {},
   "outputs": [
    {
     "data": {
      "text/html": [
       "<div>\n",
       "<style scoped>\n",
       "    .dataframe tbody tr th:only-of-type {\n",
       "        vertical-align: middle;\n",
       "    }\n",
       "\n",
       "    .dataframe tbody tr th {\n",
       "        vertical-align: top;\n",
       "    }\n",
       "\n",
       "    .dataframe thead th {\n",
       "        text-align: right;\n",
       "    }\n",
       "</style>\n",
       "<table border=\"1\" class=\"dataframe\">\n",
       "  <thead>\n",
       "    <tr style=\"text-align: right;\">\n",
       "      <th></th>\n",
       "      <th>PatientId</th>\n",
       "      <th>AppointmentID</th>\n",
       "      <th>Age</th>\n",
       "      <th>Scholarship</th>\n",
       "      <th>Hipertension</th>\n",
       "      <th>Diabetes</th>\n",
       "      <th>Alcoholism</th>\n",
       "      <th>Handcap</th>\n",
       "      <th>SMS_received</th>\n",
       "      <th>No-show</th>\n",
       "    </tr>\n",
       "  </thead>\n",
       "  <tbody>\n",
       "    <tr>\n",
       "      <th>count</th>\n",
       "      <td>1.069870e+05</td>\n",
       "      <td>1.069870e+05</td>\n",
       "      <td>106987.000000</td>\n",
       "      <td>106987.000000</td>\n",
       "      <td>106987.000000</td>\n",
       "      <td>106987.000000</td>\n",
       "      <td>106987.000000</td>\n",
       "      <td>106987.000000</td>\n",
       "      <td>106987.000000</td>\n",
       "      <td>106987.000000</td>\n",
       "    </tr>\n",
       "    <tr>\n",
       "      <th>mean</th>\n",
       "      <td>1.472814e+14</td>\n",
       "      <td>5.675434e+06</td>\n",
       "      <td>38.316085</td>\n",
       "      <td>0.101031</td>\n",
       "      <td>0.203772</td>\n",
       "      <td>0.074243</td>\n",
       "      <td>0.031406</td>\n",
       "      <td>0.022975</td>\n",
       "      <td>0.323264</td>\n",
       "      <td>0.797359</td>\n",
       "    </tr>\n",
       "    <tr>\n",
       "      <th>std</th>\n",
       "      <td>2.558267e+14</td>\n",
       "      <td>7.133274e+04</td>\n",
       "      <td>22.466214</td>\n",
       "      <td>0.301371</td>\n",
       "      <td>0.402804</td>\n",
       "      <td>0.262167</td>\n",
       "      <td>0.174412</td>\n",
       "      <td>0.164115</td>\n",
       "      <td>0.467725</td>\n",
       "      <td>0.401969</td>\n",
       "    </tr>\n",
       "    <tr>\n",
       "      <th>min</th>\n",
       "      <td>3.921784e+04</td>\n",
       "      <td>5.030230e+06</td>\n",
       "      <td>1.000000</td>\n",
       "      <td>0.000000</td>\n",
       "      <td>0.000000</td>\n",
       "      <td>0.000000</td>\n",
       "      <td>0.000000</td>\n",
       "      <td>0.000000</td>\n",
       "      <td>0.000000</td>\n",
       "      <td>0.000000</td>\n",
       "    </tr>\n",
       "    <tr>\n",
       "      <th>25%</th>\n",
       "      <td>4.173523e+12</td>\n",
       "      <td>5.640490e+06</td>\n",
       "      <td>19.000000</td>\n",
       "      <td>0.000000</td>\n",
       "      <td>0.000000</td>\n",
       "      <td>0.000000</td>\n",
       "      <td>0.000000</td>\n",
       "      <td>0.000000</td>\n",
       "      <td>0.000000</td>\n",
       "      <td>1.000000</td>\n",
       "    </tr>\n",
       "    <tr>\n",
       "      <th>50%</th>\n",
       "      <td>3.172463e+13</td>\n",
       "      <td>5.680744e+06</td>\n",
       "      <td>38.000000</td>\n",
       "      <td>0.000000</td>\n",
       "      <td>0.000000</td>\n",
       "      <td>0.000000</td>\n",
       "      <td>0.000000</td>\n",
       "      <td>0.000000</td>\n",
       "      <td>0.000000</td>\n",
       "      <td>1.000000</td>\n",
       "    </tr>\n",
       "    <tr>\n",
       "      <th>75%</th>\n",
       "      <td>9.433600e+13</td>\n",
       "      <td>5.725634e+06</td>\n",
       "      <td>56.000000</td>\n",
       "      <td>0.000000</td>\n",
       "      <td>0.000000</td>\n",
       "      <td>0.000000</td>\n",
       "      <td>0.000000</td>\n",
       "      <td>0.000000</td>\n",
       "      <td>1.000000</td>\n",
       "      <td>1.000000</td>\n",
       "    </tr>\n",
       "    <tr>\n",
       "      <th>max</th>\n",
       "      <td>9.999816e+14</td>\n",
       "      <td>5.790484e+06</td>\n",
       "      <td>115.000000</td>\n",
       "      <td>1.000000</td>\n",
       "      <td>1.000000</td>\n",
       "      <td>1.000000</td>\n",
       "      <td>1.000000</td>\n",
       "      <td>4.000000</td>\n",
       "      <td>1.000000</td>\n",
       "      <td>1.000000</td>\n",
       "    </tr>\n",
       "  </tbody>\n",
       "</table>\n",
       "</div>"
      ],
      "text/plain": [
       "          PatientId  AppointmentID            Age    Scholarship  \\\n",
       "count  1.069870e+05   1.069870e+05  106987.000000  106987.000000   \n",
       "mean   1.472814e+14   5.675434e+06      38.316085       0.101031   \n",
       "std    2.558267e+14   7.133274e+04      22.466214       0.301371   \n",
       "min    3.921784e+04   5.030230e+06       1.000000       0.000000   \n",
       "25%    4.173523e+12   5.640490e+06      19.000000       0.000000   \n",
       "50%    3.172463e+13   5.680744e+06      38.000000       0.000000   \n",
       "75%    9.433600e+13   5.725634e+06      56.000000       0.000000   \n",
       "max    9.999816e+14   5.790484e+06     115.000000       1.000000   \n",
       "\n",
       "        Hipertension       Diabetes     Alcoholism        Handcap  \\\n",
       "count  106987.000000  106987.000000  106987.000000  106987.000000   \n",
       "mean        0.203772       0.074243       0.031406       0.022975   \n",
       "std         0.402804       0.262167       0.174412       0.164115   \n",
       "min         0.000000       0.000000       0.000000       0.000000   \n",
       "25%         0.000000       0.000000       0.000000       0.000000   \n",
       "50%         0.000000       0.000000       0.000000       0.000000   \n",
       "75%         0.000000       0.000000       0.000000       0.000000   \n",
       "max         1.000000       1.000000       1.000000       4.000000   \n",
       "\n",
       "        SMS_received        No-show  \n",
       "count  106987.000000  106987.000000  \n",
       "mean        0.323264       0.797359  \n",
       "std         0.467725       0.401969  \n",
       "min         0.000000       0.000000  \n",
       "25%         0.000000       1.000000  \n",
       "50%         0.000000       1.000000  \n",
       "75%         1.000000       1.000000  \n",
       "max         1.000000       1.000000  "
      ]
     },
     "execution_count": 166,
     "metadata": {},
     "output_type": "execute_result"
    }
   ],
   "source": [
    "# Statistical describe of data\n",
    "data.describe()"
   ]
  },
  {
   "cell_type": "code",
   "execution_count": 165,
   "id": "19c4cb63-8272-4422-858a-f7f982d811cc",
   "metadata": {},
   "outputs": [
    {
     "data": {
      "image/png": "[encoded data removed]",
      "text/plain": [
       "<Figure size 720x864 with 12 Axes>"
      ]
     },
     "metadata": {
      "needs_background": "light"
     },
     "output_type": "display_data"
    }
   ],
   "source": [
    "# Making a histogram for all features in the data\n",
    "data.hist(figsize=(10,12))\n",
    "plt.show()"
   ]
  },
  {
   "cell_type": "markdown",
   "id": "4e3246db-ae34-4253-b70e-9acbbb018ac5",
   "metadata": {},
   "source": [
    "# 2- Cleaning Data\n",
    "### Explore Null & Duplicates"
   ]
  },
  {
   "cell_type": "code",
   "execution_count": 33,
   "id": "6144a934-5d15-40dc-b19d-681e1cef2b8c",
   "metadata": {},
   "outputs": [
    {
     "data": {
      "text/plain": [
       "PatientId         0\n",
       "AppointmentID     0\n",
       "Gender            0\n",
       "ScheduledDay      0\n",
       "AppointmentDay    0\n",
       "Age               0\n",
       "Neighbourhood     0\n",
       "Scholarship       0\n",
       "Hipertension      0\n",
       "Diabetes          0\n",
       "Alcoholism        0\n",
       "Handcap           0\n",
       "SMS_received      0\n",
       "No-show           0\n",
       "dtype: int64"
      ]
     },
     "execution_count": 33,
     "metadata": {},
     "output_type": "execute_result"
    }
   ],
   "source": [
    "# Showing Number of null values in each column\n",
    "data.isna().sum()"
   ]
  },
  {
   "cell_type": "code",
   "execution_count": 34,
   "id": "10f953b1-6edb-4e5e-82fe-6b4bb585c820",
   "metadata": {},
   "outputs": [
    {
     "data": {
      "text/plain": [
       "0"
      ]
     },
     "execution_count": 34,
     "metadata": {},
     "output_type": "execute_result"
    }
   ],
   "source": [
    "# Showing Nymber of Duplicates\n",
    "data.duplicated().sum()"
   ]
  },
  {
   "cell_type": "markdown",
   "id": "f6bdf64e-95a9-4dee-a23c-ec9bc511199e",
   "metadata": {},
   "source": [
    "### Making a histogram of Age column"
   ]
  },
  {
   "cell_type": "code",
   "execution_count": 170,
   "id": "40fdfdda-ec09-4e81-9141-cf2dda9f0c46",
   "metadata": {},
   "outputs": [
    {
     "data": {
      "image/png": "[encoded data removed]",
      "text/plain": [
       "<Figure size 432x288 with 1 Axes>"
      ]
     },
     "metadata": {
      "needs_background": "light"
     },
     "output_type": "display_data"
    }
   ],
   "source": [
    "plt.hist(data['Age'])\n",
    "plt.title('Histogram of Ages')\n",
    "plt.grid()\n",
    "plt.show()"
   ]
  },
  {
   "cell_type": "code",
   "execution_count": 173,
   "id": "0a8ab06a-4461-49cc-abd8-f28ca3084cb6",
   "metadata": {},
   "outputs": [
    {
     "data": {
      "text/html": [
       "<div>\n",
       "<style scoped>\n",
       "    .dataframe tbody tr th:only-of-type {\n",
       "        vertical-align: middle;\n",
       "    }\n",
       "\n",
       "    .dataframe tbody tr th {\n",
       "        vertical-align: top;\n",
       "    }\n",
       "\n",
       "    .dataframe thead th {\n",
       "        text-align: right;\n",
       "    }\n",
       "</style>\n",
       "<table border=\"1\" class=\"dataframe\">\n",
       "  <thead>\n",
       "    <tr style=\"text-align: right;\">\n",
       "      <th></th>\n",
       "      <th>PatientId</th>\n",
       "      <th>AppointmentID</th>\n",
       "      <th>Gender</th>\n",
       "      <th>ScheduledDay</th>\n",
       "      <th>AppointmentDay</th>\n",
       "      <th>Age</th>\n",
       "      <th>Neighbourhood</th>\n",
       "      <th>Scholarship</th>\n",
       "      <th>Hipertension</th>\n",
       "      <th>Diabetes</th>\n",
       "      <th>Alcoholism</th>\n",
       "      <th>Handcap</th>\n",
       "      <th>SMS_received</th>\n",
       "      <th>No-show</th>\n",
       "    </tr>\n",
       "  </thead>\n",
       "  <tbody>\n",
       "    <tr>\n",
       "      <th>59</th>\n",
       "      <td>7.184428e+13</td>\n",
       "      <td>5638545</td>\n",
       "      <td>F</td>\n",
       "      <td>2016-04-29T08:08:43Z</td>\n",
       "      <td>2016-04-29T00:00:00Z</td>\n",
       "      <td>0</td>\n",
       "      <td>CONQUISTA</td>\n",
       "      <td>0</td>\n",
       "      <td>0</td>\n",
       "      <td>0</td>\n",
       "      <td>0</td>\n",
       "      <td>0</td>\n",
       "      <td>0</td>\n",
       "      <td>No</td>\n",
       "    </tr>\n",
       "    <tr>\n",
       "      <th>63</th>\n",
       "      <td>2.366233e+14</td>\n",
       "      <td>5628286</td>\n",
       "      <td>M</td>\n",
       "      <td>2016-04-27T10:46:12Z</td>\n",
       "      <td>2016-04-29T00:00:00Z</td>\n",
       "      <td>0</td>\n",
       "      <td>SÃO BENEDITO</td>\n",
       "      <td>0</td>\n",
       "      <td>0</td>\n",
       "      <td>0</td>\n",
       "      <td>0</td>\n",
       "      <td>0</td>\n",
       "      <td>0</td>\n",
       "      <td>No</td>\n",
       "    </tr>\n",
       "    <tr>\n",
       "      <th>64</th>\n",
       "      <td>1.885174e+14</td>\n",
       "      <td>5616082</td>\n",
       "      <td>M</td>\n",
       "      <td>2016-04-25T13:28:21Z</td>\n",
       "      <td>2016-04-29T00:00:00Z</td>\n",
       "      <td>0</td>\n",
       "      <td>ILHA DAS CAIEIRAS</td>\n",
       "      <td>0</td>\n",
       "      <td>0</td>\n",
       "      <td>0</td>\n",
       "      <td>0</td>\n",
       "      <td>0</td>\n",
       "      <td>1</td>\n",
       "      <td>No</td>\n",
       "    </tr>\n",
       "    <tr>\n",
       "      <th>65</th>\n",
       "      <td>2.718818e+14</td>\n",
       "      <td>5628321</td>\n",
       "      <td>M</td>\n",
       "      <td>2016-04-27T10:48:50Z</td>\n",
       "      <td>2016-04-29T00:00:00Z</td>\n",
       "      <td>0</td>\n",
       "      <td>CONQUISTA</td>\n",
       "      <td>0</td>\n",
       "      <td>0</td>\n",
       "      <td>0</td>\n",
       "      <td>0</td>\n",
       "      <td>0</td>\n",
       "      <td>0</td>\n",
       "      <td>No</td>\n",
       "    </tr>\n",
       "    <tr>\n",
       "      <th>67</th>\n",
       "      <td>8.647128e+13</td>\n",
       "      <td>5639264</td>\n",
       "      <td>F</td>\n",
       "      <td>2016-04-29T08:53:02Z</td>\n",
       "      <td>2016-04-29T00:00:00Z</td>\n",
       "      <td>0</td>\n",
       "      <td>NOVA PALESTINA</td>\n",
       "      <td>0</td>\n",
       "      <td>0</td>\n",
       "      <td>0</td>\n",
       "      <td>0</td>\n",
       "      <td>0</td>\n",
       "      <td>0</td>\n",
       "      <td>No</td>\n",
       "    </tr>\n",
       "    <tr>\n",
       "      <th>...</th>\n",
       "      <td>...</td>\n",
       "      <td>...</td>\n",
       "      <td>...</td>\n",
       "      <td>...</td>\n",
       "      <td>...</td>\n",
       "      <td>...</td>\n",
       "      <td>...</td>\n",
       "      <td>...</td>\n",
       "      <td>...</td>\n",
       "      <td>...</td>\n",
       "      <td>...</td>\n",
       "      <td>...</td>\n",
       "      <td>...</td>\n",
       "      <td>...</td>\n",
       "    </tr>\n",
       "    <tr>\n",
       "      <th>110345</th>\n",
       "      <td>1.473952e+14</td>\n",
       "      <td>5702537</td>\n",
       "      <td>F</td>\n",
       "      <td>2016-05-16T12:30:58Z</td>\n",
       "      <td>2016-06-01T00:00:00Z</td>\n",
       "      <td>0</td>\n",
       "      <td>RESISTÊNCIA</td>\n",
       "      <td>0</td>\n",
       "      <td>0</td>\n",
       "      <td>0</td>\n",
       "      <td>0</td>\n",
       "      <td>0</td>\n",
       "      <td>0</td>\n",
       "      <td>No</td>\n",
       "    </tr>\n",
       "    <tr>\n",
       "      <th>110346</th>\n",
       "      <td>5.577525e+12</td>\n",
       "      <td>5777724</td>\n",
       "      <td>M</td>\n",
       "      <td>2016-06-06T14:22:34Z</td>\n",
       "      <td>2016-06-08T00:00:00Z</td>\n",
       "      <td>0</td>\n",
       "      <td>RESISTÊNCIA</td>\n",
       "      <td>0</td>\n",
       "      <td>0</td>\n",
       "      <td>0</td>\n",
       "      <td>0</td>\n",
       "      <td>0</td>\n",
       "      <td>0</td>\n",
       "      <td>No</td>\n",
       "    </tr>\n",
       "    <tr>\n",
       "      <th>110454</th>\n",
       "      <td>6.142460e+11</td>\n",
       "      <td>5772400</td>\n",
       "      <td>F</td>\n",
       "      <td>2016-06-03T15:18:44Z</td>\n",
       "      <td>2016-06-03T00:00:00Z</td>\n",
       "      <td>0</td>\n",
       "      <td>RESISTÊNCIA</td>\n",
       "      <td>0</td>\n",
       "      <td>0</td>\n",
       "      <td>0</td>\n",
       "      <td>0</td>\n",
       "      <td>0</td>\n",
       "      <td>0</td>\n",
       "      <td>No</td>\n",
       "    </tr>\n",
       "    <tr>\n",
       "      <th>110460</th>\n",
       "      <td>4.321846e+13</td>\n",
       "      <td>5769545</td>\n",
       "      <td>F</td>\n",
       "      <td>2016-06-03T08:56:51Z</td>\n",
       "      <td>2016-06-03T00:00:00Z</td>\n",
       "      <td>0</td>\n",
       "      <td>RESISTÊNCIA</td>\n",
       "      <td>0</td>\n",
       "      <td>0</td>\n",
       "      <td>0</td>\n",
       "      <td>0</td>\n",
       "      <td>0</td>\n",
       "      <td>0</td>\n",
       "      <td>No</td>\n",
       "    </tr>\n",
       "    <tr>\n",
       "      <th>110507</th>\n",
       "      <td>4.769462e+14</td>\n",
       "      <td>5786918</td>\n",
       "      <td>F</td>\n",
       "      <td>2016-06-08T09:04:18Z</td>\n",
       "      <td>2016-06-08T00:00:00Z</td>\n",
       "      <td>0</td>\n",
       "      <td>MARIA ORTIZ</td>\n",
       "      <td>0</td>\n",
       "      <td>0</td>\n",
       "      <td>0</td>\n",
       "      <td>0</td>\n",
       "      <td>0</td>\n",
       "      <td>0</td>\n",
       "      <td>No</td>\n",
       "    </tr>\n",
       "  </tbody>\n",
       "</table>\n",
       "<p>3540 rows × 14 columns</p>\n",
       "</div>"
      ],
      "text/plain": [
       "           PatientId  AppointmentID Gender          ScheduledDay  \\\n",
       "59      7.184428e+13        5638545      F  2016-04-29T08:08:43Z   \n",
       "63      2.366233e+14        5628286      M  2016-04-27T10:46:12Z   \n",
       "64      1.885174e+14        5616082      M  2016-04-25T13:28:21Z   \n",
       "65      2.718818e+14        5628321      M  2016-04-27T10:48:50Z   \n",
       "67      8.647128e+13        5639264      F  2016-04-29T08:53:02Z   \n",
       "...              ...            ...    ...                   ...   \n",
       "110345  1.473952e+14        5702537      F  2016-05-16T12:30:58Z   \n",
       "110346  5.577525e+12        5777724      M  2016-06-06T14:22:34Z   \n",
       "110454  6.142460e+11        5772400      F  2016-06-03T15:18:44Z   \n",
       "110460  4.321846e+13        5769545      F  2016-06-03T08:56:51Z   \n",
       "110507  4.769462e+14        5786918      F  2016-06-08T09:04:18Z   \n",
       "\n",
       "              AppointmentDay  Age      Neighbourhood  Scholarship  \\\n",
       "59      2016-04-29T00:00:00Z    0          CONQUISTA            0   \n",
       "63      2016-04-29T00:00:00Z    0       SÃO BENEDITO            0   \n",
       "64      2016-04-29T00:00:00Z    0  ILHA DAS CAIEIRAS            0   \n",
       "65      2016-04-29T00:00:00Z    0          CONQUISTA            0   \n",
       "67      2016-04-29T00:00:00Z    0     NOVA PALESTINA            0   \n",
       "...                      ...  ...                ...          ...   \n",
       "110345  2016-06-01T00:00:00Z    0        RESISTÊNCIA            0   \n",
       "110346  2016-06-08T00:00:00Z    0        RESISTÊNCIA            0   \n",
       "110454  2016-06-03T00:00:00Z    0        RESISTÊNCIA            0   \n",
       "110460  2016-06-03T00:00:00Z    0        RESISTÊNCIA            0   \n",
       "110507  2016-06-08T00:00:00Z    0        MARIA ORTIZ            0   \n",
       "\n",
       "        Hipertension  Diabetes  Alcoholism  Handcap  SMS_received No-show  \n",
       "59                 0         0           0        0             0      No  \n",
       "63                 0         0           0        0             0      No  \n",
       "64                 0         0           0        0             1      No  \n",
       "65                 0         0           0        0             0      No  \n",
       "67                 0         0           0        0             0      No  \n",
       "...              ...       ...         ...      ...           ...     ...  \n",
       "110345             0         0           0        0             0      No  \n",
       "110346             0         0           0        0             0      No  \n",
       "110454             0         0           0        0             0      No  \n",
       "110460             0         0           0        0             0      No  \n",
       "110507             0         0           0        0             0      No  \n",
       "\n",
       "[3540 rows x 14 columns]"
      ]
     },
     "execution_count": 173,
     "metadata": {},
     "output_type": "execute_result"
    }
   ],
   "source": [
    "# Show if there is any age less than or equal to (0)\n",
    "data[data['Age']<=0]"
   ]
  },
  {
   "cell_type": "code",
   "execution_count": 174,
   "id": "6b9778ea-941a-4722-aa8e-ea11c6c9081a",
   "metadata": {},
   "outputs": [],
   "source": [
    "# Delete Ages less than or equal (0)\n",
    "data=data[data['Age']>0]"
   ]
  },
  {
   "cell_type": "code",
   "execution_count": 175,
   "id": "bfdfb518-1b58-477f-b6a9-f8d165bb776e",
   "metadata": {},
   "outputs": [
    {
     "data": {
      "text/plain": [
       "PatientId         0.0\n",
       "AppointmentID     0.0\n",
       "Gender            0.0\n",
       "ScheduledDay      0.0\n",
       "AppointmentDay    0.0\n",
       "Age               0.0\n",
       "Neighbourhood     0.0\n",
       "Scholarship       0.0\n",
       "Hipertension      0.0\n",
       "Diabetes          0.0\n",
       "Alcoholism        0.0\n",
       "Handcap           0.0\n",
       "SMS_received      0.0\n",
       "No-show           0.0\n",
       "dtype: float64"
      ]
     },
     "execution_count": 175,
     "metadata": {},
     "output_type": "execute_result"
    }
   ],
   "source": [
    "# Check Again\n",
    "data[data['Age']<=0].sum()"
   ]
  },
  {
   "cell_type": "markdown",
   "id": "00aaa5d3-16e4-48a1-9871-94fd490bcae3",
   "metadata": {},
   "source": [
    "# 3- Dealing with Column of Attendence People"
   ]
  },
  {
   "cell_type": "code",
   "execution_count": 176,
   "id": "95eb1b4d-3301-4cc3-9439-d9ca48bb0a86",
   "metadata": {},
   "outputs": [
    {
     "data": {
      "text/plain": [
       "0    1\n",
       "1    1\n",
       "2    1\n",
       "3    1\n",
       "4    1\n",
       "Name: No-show, dtype: int64"
      ]
     },
     "execution_count": 176,
     "metadata": {},
     "output_type": "execute_result"
    }
   ],
   "source": [
    "data[\"No-show\"].replace({\"Yes\":0,\"No\":1},inplace=True)\n",
    "data['No-show'] = data['No-show'].astype('int64')\n",
    "data['No-show'].head()"
   ]
  },
  {
   "cell_type": "code",
   "execution_count": 177,
   "id": "eca50c49-47c6-4fe6-b26f-2cfcc60cbf5f",
   "metadata": {},
   "outputs": [],
   "source": [
    "people_NotAttend = data[data[\"No-show\"]==1].count()[\"No-show\"]\n",
    "people_Attend = data[data['No-show'] == 0].count()['No-show']"
   ]
  },
  {
   "cell_type": "code",
   "execution_count": 179,
   "id": "1094774d-f61f-4065-a246-3c1b5b3cfd1e",
   "metadata": {},
   "outputs": [
    {
     "name": "stdout",
     "output_type": "stream",
     "text": [
      "Number of People who attend the appointment :  21680 \n",
      "Number of People who didnot attend the appointment :  85307\n"
     ]
    }
   ],
   "source": [
    "print('Number of People who attend the appointment : ',people_Attend,\n",
    "     '\\nNumber of People who didnot attend the appointment : ',people_NotAttend)"
   ]
  },
  {
   "cell_type": "code",
   "execution_count": 188,
   "id": "fbe07c06-313b-4cda-b343-a912407f574e",
   "metadata": {},
   "outputs": [
    {
     "data": {
      "text/plain": [
       "3.9348247232472326"
      ]
     },
     "execution_count": 188,
     "metadata": {},
     "output_type": "execute_result"
    }
   ],
   "source": [
    "# Calculating the number of times that number of NotAttend is duplicated to number of attend\n",
    "t= people_NotAttend/people_Attend\n",
    "t"
   ]
  },
  {
   "cell_type": "code",
   "execution_count": 180,
   "id": "b1e84acc-1997-417b-bebc-f4650cb41bfd",
   "metadata": {},
   "outputs": [
    {
     "name": "stdout",
     "output_type": "stream",
     "text": [
      "The Percentage of People who attend the appointment :  20.26414424182377 % \n",
      "The Percentage of People who didnot attend the appointment :  79.73585575817623 %\n"
     ]
    }
   ],
   "source": [
    "# Calculating the percent of attendence & not attendence\n",
    "Attend_percent= (people_Attend/(people_Attend+people_NotAttend))*100\n",
    "NotAttend_percent= (people_NotAttend/(people_Attend+people_NotAttend))*100\n",
    "print('The Percentage of People who attend the appointment : ',Attend_percent,'%',\n",
    "     '\\nThe Percentage of People who didnot attend the appointment : ',NotAttend_percent,'%')"
   ]
  },
  {
   "cell_type": "code",
   "execution_count": 181,
   "id": "016347e1-562c-42b5-a66b-e727feed6faa",
   "metadata": {},
   "outputs": [
    {
     "data": {
      "image/png": "[encoded data removed]",
      "text/plain": [
       "<Figure size 432x288 with 1 Axes>"
      ]
     },
     "metadata": {
      "needs_background": "light"
     },
     "output_type": "display_data"
    }
   ],
   "source": [
    "# Making a bar chart to visualize the percentage\n",
    "plt.bar(['Attend','Not Attend'],[Attend_percent,NotAttend_percent],color=['blue','yellow'])\n",
    "plt.title('The Percentage of Attendence & Not Attendence',fontsize=16)\n",
    "plt.show()"
   ]
  },
  {
   "cell_type": "markdown",
   "id": "54ca7684-53ec-4b73-b460-cf389b7147e7",
   "metadata": {},
   "source": [
    "# 4- Finding The Relation Between Gender & Attendence"
   ]
  },
  {
   "cell_type": "code",
   "execution_count": 182,
   "id": "eaf35bff-011c-4944-a498-afb97a958f72",
   "metadata": {},
   "outputs": [
    {
     "data": {
      "text/html": [
       "<div>\n",
       "<style scoped>\n",
       "    .dataframe tbody tr th:only-of-type {\n",
       "        vertical-align: middle;\n",
       "    }\n",
       "\n",
       "    .dataframe tbody tr th {\n",
       "        vertical-align: top;\n",
       "    }\n",
       "\n",
       "    .dataframe thead th {\n",
       "        text-align: right;\n",
       "    }\n",
       "</style>\n",
       "<table border=\"1\" class=\"dataframe\">\n",
       "  <thead>\n",
       "    <tr style=\"text-align: right;\">\n",
       "      <th></th>\n",
       "      <th></th>\n",
       "      <th>PatientId</th>\n",
       "      <th>AppointmentID</th>\n",
       "      <th>ScheduledDay</th>\n",
       "      <th>AppointmentDay</th>\n",
       "      <th>Age</th>\n",
       "      <th>Neighbourhood</th>\n",
       "      <th>Scholarship</th>\n",
       "      <th>Hipertension</th>\n",
       "      <th>Diabetes</th>\n",
       "      <th>Alcoholism</th>\n",
       "      <th>Handcap</th>\n",
       "      <th>SMS_received</th>\n",
       "    </tr>\n",
       "    <tr>\n",
       "      <th>Gender</th>\n",
       "      <th>No-show</th>\n",
       "      <th></th>\n",
       "      <th></th>\n",
       "      <th></th>\n",
       "      <th></th>\n",
       "      <th></th>\n",
       "      <th></th>\n",
       "      <th></th>\n",
       "      <th></th>\n",
       "      <th></th>\n",
       "      <th></th>\n",
       "      <th></th>\n",
       "      <th></th>\n",
       "    </tr>\n",
       "  </thead>\n",
       "  <tbody>\n",
       "    <tr>\n",
       "      <th rowspan=\"2\" valign=\"top\">F</th>\n",
       "      <th>0</th>\n",
       "      <td>14275</td>\n",
       "      <td>14275</td>\n",
       "      <td>14275</td>\n",
       "      <td>14275</td>\n",
       "      <td>14275</td>\n",
       "      <td>14275</td>\n",
       "      <td>14275</td>\n",
       "      <td>14275</td>\n",
       "      <td>14275</td>\n",
       "      <td>14275</td>\n",
       "      <td>14275</td>\n",
       "      <td>14275</td>\n",
       "    </tr>\n",
       "    <tr>\n",
       "      <th>1</th>\n",
       "      <td>55843</td>\n",
       "      <td>55843</td>\n",
       "      <td>55843</td>\n",
       "      <td>55843</td>\n",
       "      <td>55843</td>\n",
       "      <td>55843</td>\n",
       "      <td>55843</td>\n",
       "      <td>55843</td>\n",
       "      <td>55843</td>\n",
       "      <td>55843</td>\n",
       "      <td>55843</td>\n",
       "      <td>55843</td>\n",
       "    </tr>\n",
       "    <tr>\n",
       "      <th rowspan=\"2\" valign=\"top\">M</th>\n",
       "      <th>0</th>\n",
       "      <td>7405</td>\n",
       "      <td>7405</td>\n",
       "      <td>7405</td>\n",
       "      <td>7405</td>\n",
       "      <td>7405</td>\n",
       "      <td>7405</td>\n",
       "      <td>7405</td>\n",
       "      <td>7405</td>\n",
       "      <td>7405</td>\n",
       "      <td>7405</td>\n",
       "      <td>7405</td>\n",
       "      <td>7405</td>\n",
       "    </tr>\n",
       "    <tr>\n",
       "      <th>1</th>\n",
       "      <td>29464</td>\n",
       "      <td>29464</td>\n",
       "      <td>29464</td>\n",
       "      <td>29464</td>\n",
       "      <td>29464</td>\n",
       "      <td>29464</td>\n",
       "      <td>29464</td>\n",
       "      <td>29464</td>\n",
       "      <td>29464</td>\n",
       "      <td>29464</td>\n",
       "      <td>29464</td>\n",
       "      <td>29464</td>\n",
       "    </tr>\n",
       "  </tbody>\n",
       "</table>\n",
       "</div>"
      ],
      "text/plain": [
       "                PatientId  AppointmentID  ScheduledDay  AppointmentDay    Age  \\\n",
       "Gender No-show                                                                  \n",
       "F      0            14275          14275         14275           14275  14275   \n",
       "       1            55843          55843         55843           55843  55843   \n",
       "M      0             7405           7405          7405            7405   7405   \n",
       "       1            29464          29464         29464           29464  29464   \n",
       "\n",
       "                Neighbourhood  Scholarship  Hipertension  Diabetes  \\\n",
       "Gender No-show                                                       \n",
       "F      0                14275        14275         14275     14275   \n",
       "       1                55843        55843         55843     55843   \n",
       "M      0                 7405         7405          7405      7405   \n",
       "       1                29464        29464         29464     29464   \n",
       "\n",
       "                Alcoholism  Handcap  SMS_received  \n",
       "Gender No-show                                     \n",
       "F      0             14275    14275         14275  \n",
       "       1             55843    55843         55843  \n",
       "M      0              7405     7405          7405  \n",
       "       1             29464    29464         29464  "
      ]
     },
     "execution_count": 182,
     "metadata": {},
     "output_type": "execute_result"
    }
   ],
   "source": [
    "# Calculating the number of attendence & not attendence with category [gender]\n",
    "df=data.groupby(['Gender','No-show']).count()\n",
    "df.head()"
   ]
  },
  {
   "cell_type": "code",
   "execution_count": 183,
   "id": "ee3c7eaa-8d80-4f79-9ca6-5691c9c95033",
   "metadata": {},
   "outputs": [],
   "source": [
    "# Finding values of number of attendence & not attendence of each gender\n",
    "a=df.iat[0,1]\n",
    "b=df.iat[1,1]\n",
    "c=df.iat[2,1]\n",
    "d=df.iat[3,1]"
   ]
  },
  {
   "cell_type": "code",
   "execution_count": 184,
   "id": "fa6ad49b-97fa-4cb3-bff1-1b9e76e4a63b",
   "metadata": {},
   "outputs": [
    {
     "data": {
      "image/png": "[encoded data removed]",
      "text/plain": [
       "<Figure size 432x288 with 1 Axes>"
      ]
     },
     "metadata": {
      "needs_background": "light"
     },
     "output_type": "display_data"
    }
   ],
   "source": [
    "# Making a bar chart of number of females who attended the appointment & females who didnot attend\n",
    "plt.bar(['Attend','Not Attend'],[a,b],color=['pink','cyan'])\n",
    "plt.title('Bar Chart of Females',fontsize=15)\n",
    "plt.show()"
   ]
  },
  {
   "cell_type": "code",
   "execution_count": 185,
   "id": "14aff656-ee4f-4d37-86c6-43268c7315fc",
   "metadata": {},
   "outputs": [
    {
     "data": {
      "image/png": "[encoded data removed]",
      "text/plain": [
       "<Figure size 432x288 with 1 Axes>"
      ]
     },
     "metadata": {
      "needs_background": "light"
     },
     "output_type": "display_data"
    }
   ],
   "source": [
    "# Making a bar chart of number of males who attended the appointment & males who didnot attend\n",
    "plt.bar(['Attend','Not Attend'],[c,d],color=['red','green'])\n",
    "plt.title('Bar Chart of Males',fontsize=15)\n",
    "plt.show()"
   ]
  },
  {
   "cell_type": "markdown",
   "id": "8682de92-e020-451b-a238-72419efe445a",
   "metadata": {},
   "source": [
    "### Calculating the percentage of attend & not attend for each gender and\n",
    "### making a pie chart for these percentages"
   ]
  },
  {
   "cell_type": "code",
   "execution_count": 102,
   "id": "1543b685-766f-4c7a-b900-5e0bd69788d7",
   "metadata": {},
   "outputs": [],
   "source": [
    "e=(a/(a+b))*100\n",
    "f=(b/(a+b))*100\n",
    "g=(c/(c+d))*100\n",
    "h=(d/(c+d))*100"
   ]
  },
  {
   "cell_type": "code",
   "execution_count": 187,
   "id": "489f06ef-07c7-46dc-a674-8ae63dfdaeb4",
   "metadata": {},
   "outputs": [
    {
     "data": {
      "image/png": "[encoded data removed]",
      "text/plain": [
       "<Figure size 432x288 with 1 Axes>"
      ]
     },
     "metadata": {},
     "output_type": "display_data"
    }
   ],
   "source": [
    "plt.pie([e,f],autopct='%1.1f%%',labels=['Percent of Females Attend','Percent of Females Not Attend'],colors=['cyan','pink'])\n",
    "plt.title('Pie Chart of Females Percentages',fontsize=15)\n",
    "plt.show()"
   ]
  },
  {
   "cell_type": "code",
   "execution_count": 186,
   "id": "861a9c10-83de-499c-8a6c-f1a133f8c811",
   "metadata": {},
   "outputs": [
    {
     "data": {
      "image/png": "[encoded data removed]",
      "text/plain": [
       "<Figure size 432x288 with 1 Axes>"
      ]
     },
     "metadata": {},
     "output_type": "display_data"
    }
   ],
   "source": [
    "plt.pie([g,h],autopct='%1.1f%%',labels=['Percent of Males Attend','Percent of Males Not Attend'],colors=['red','green'])\n",
    "plt.title('Pie Chart of Males Percentages',fontsize=15)\n",
    "plt.show()"
   ]
  },
  {
   "cell_type": "markdown",
   "id": "3f297468-77d2-4da4-b603-ba07422c62e3",
   "metadata": {},
   "source": [
    "# 5- Calculating the Count & Percentages of Patients with Diagnosis"
   ]
  },
  {
   "cell_type": "code",
   "execution_count": 161,
   "id": "7691f3f8-83d2-4c0b-8929-d4d872a17bc2",
   "metadata": {},
   "outputs": [],
   "source": [
    "# Calculating the number of patients of each diagnose\n",
    "Number_Dibetes = data.loc[data['Diabetes']==1]['Age'].count()\n",
    "Number_Handcap = data.loc[data['Handcap']==1]['Age'].count()\n",
    "Number_Hipertension = data.loc[data['Hipertension']==1]['Age'].count()"
   ]
  },
  {
   "cell_type": "code",
   "execution_count": 162,
   "id": "9c999f8d-2131-4406-b100-5a9ad366fc6a",
   "metadata": {},
   "outputs": [],
   "source": [
    "# Calculating the percentage of patients of each diagnose\n",
    "diabete_percent = (Number_Dibetes/106987)*100\n",
    "handcap_percent = (Number_Handcap/106987)*100\n",
    "hipertension_percent = (Number_Hipertension/106987)*100"
   ]
  },
  {
   "cell_type": "code",
   "execution_count": 160,
   "id": "7fea22a5-aff8-48c2-8be2-ed73353cb515",
   "metadata": {},
   "outputs": [
    {
     "data": {
      "image/png": "[encoded data removed]",
      "text/plain": [
       "<Figure size 432x288 with 1 Axes>"
      ]
     },
     "metadata": {
      "needs_background": "light"
     },
     "output_type": "display_data"
    }
   ],
   "source": [
    "# Making a bar chart of number of patients people\n",
    "col=['Diabetes','Handcap','Hipertension']\n",
    "val=[Number_Dibetes,Number_Handcap,Number_Hipertension]\n",
    "colr=['green','yellow','red']\n",
    "plt.bar(col,val,color=colr)\n",
    "plt.title('The Count of Patients with diagnosis')\n",
    "plt.show()"
   ]
  },
  {
   "cell_type": "code",
   "execution_count": 155,
   "id": "cc5acaff-e5bc-47fb-bb22-7eff1ffc5a33",
   "metadata": {},
   "outputs": [
    {
     "data": {
      "image/png": "[encoded data removed]",
      "text/plain": [
       "<Figure size 432x288 with 1 Axes>"
      ]
     },
     "metadata": {},
     "output_type": "display_data"
    }
   ],
   "source": [
    "# Making a pie chart of percentages of patients people\n",
    "vals=[diabete_percent,handcap_percent,hipertension_percent]\n",
    "cols=['Diabetes Percent','Handcap Percent','Hipertension Percent']\n",
    "colrs=['yellow','cyan','pink']\n",
    "plt.pie(vals,autopct='%1.1f%%',labels=cols,colors=colrs,radius=1.25)\n",
    "plt.xlabel('The Percentages of people with Diagnosis',fontsize=15)\n",
    "plt.show()"
   ]
  }
 ],
 "metadata": {
  "kernelspec": {
   "display_name": "Python 3",
   "language": "python",
   "name": "python3"
  },
  "language_info": {
   "codemirror_mode": {
    "name": "ipython",
    "version": 3
   },
   "file_extension": ".py",
   "mimetype": "text/x-python",
   "name": "python",
   "nbconvert_exporter": "python",
   "pygments_lexer": "ipython3",
   "version": "3.8.8"
  }
 },
 "nbformat": 4,
 "nbformat_minor": 5
}
